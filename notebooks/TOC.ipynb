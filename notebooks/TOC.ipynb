{
 "metadata": {
  "celltoolbar": "Slideshow",
  "name": "",
  "signature": "sha256:61b81c114f6974f0e23fe665134e59fc4a1270e89f6b9349f9288d7a8096995b"
 },
 "nbformat": 3,
 "nbformat_minor": 0,
 "worksheets": [
  {
   "cells": [
    {
     "cell_type": "markdown",
     "metadata": {
      "slideshow": {
       "slide_type": "skip"
      }
     },
     "source": [
      "#<a name=\"top\"></a>Syllabus\n",
      "\n",
      "-----"
     ]
    },
    {
     "cell_type": "markdown",
     "metadata": {
      "slideshow": {
       "slide_type": "skip"
      }
     },
     "source": [
      "## Python Programming Lectures Notes"
     ]
    },
    {
     "cell_type": "markdown",
     "metadata": {
      "slideshow": {
       "slide_type": "skip"
      }
     },
     "source": [
      "This is a collection of notebooks containing some \"lecture\" notes about programming in Python.\n",
      "\n",
      "I put \"lecture\" in quotes because these are really presented as brief mini-lessons. After participating in a mini-lesson, students are presented with a set of exercises and challenges that ask them to use and apply what they have just learned.\n",
      "\n",
      "The provided materials are (mostly) intended for students who are willing to learn programming.\n",
      "To this end, notebooks covers some of the main topics about computer programming **using** the Python language.\n",
      "\n",
      "Nevertheless, the material would also serve as an introductory overview of the most important features of \n",
      "the Python language intended for experienced programmers."
     ]
    },
    {
     "cell_type": "markdown",
     "metadata": {
      "slideshow": {
       "slide_type": "skip"
      }
     },
     "source": [
      "## Table of Contents"
     ]
    },
    {
     "cell_type": "markdown",
     "metadata": {
      "slideshow": {
       "slide_type": "skip"
      }
     },
     "source": [
      "- [Programming Environment](#environment)\n",
      "- [Hello World](#hello_world)\n",
      "- [Variables, strings, and Numbers](#var_string_num)\n",
      "- [Lists and Tuples](#lists_tuples)\n",
      "- [Introducing Functions](#functions)\n",
      "- [If Statements](#if_statements)\n",
      "- [Loops, Iterations, and Input](#while_input)\n",
      "- [Dictionaries](#dictionaries)\n",
      "- [More Functions](#more_functions)\n",
      "- [Classes](#classes)\n",
      "- [Exceptions](#exceptions)\n",
      "- [Testing](#testing)\n",
      "- [Modules and Imports](#modules)\n",
      "- [Resources](#resources)"
     ]
    },
    {
     "cell_type": "code",
     "collapsed": false,
     "input": [
      "# ============================================\n",
      "#          PLEASE SKIP THE FOLLOWING CELL! \n",
      "# ============================================\n",
      "\n",
      "# The following cell contains the links to notebooks exported as HTML slides.\n",
      "# To this end, the following cell is the only one *NOT SKIPPED* in the export to HTML slides\n",
      "# \n",
      "# By the way, please note that reported links will not work if you're clicking them inside this notebook."
     ],
     "language": "python",
     "metadata": {
      "slideshow": {
       "slide_type": "skip"
      }
     },
     "outputs": [],
     "prompt_number": 1
    },
    {
     "cell_type": "markdown",
     "metadata": {
      "slideshow": {
       "slide_type": "slide"
      }
     },
     "source": [
      "# Table of Contents (Slides)\n",
      "\n",
      "- [Programming Environment](00_programming_environment.slides.html)\n",
      "- [Hello World](01_hello_world.slides.html)\n",
      "- [Variables, strings, and Numbers](02_var_string_num.slides.html)\n",
      "- [Lists and Tuples](03_lists_tuples.slides.html)\n",
      "- [Introducing Functions](04_introducing_functions.slides.html)\n",
      "- [If Statements](05_if_statements.slides.html)\n",
      "- [While Loops and Input](06_loops_input.slides.html)\n",
      "- [Dictionaries](07_dictionaries.slides.html)\n",
      "- [More Functions](08_more_functions.slides.html)\n",
      "- [Classes](09_classes.slides.html)\n",
      "- [Exceptions](10_exceptions.slides.html)\n",
      "- [Testing](11_testing.slides.html)\n",
      "- [Modules and Imports](12_modules.slides.html)"
     ]
    },
    {
     "cell_type": "markdown",
     "metadata": {
      "slideshow": {
       "slide_type": "skip"
      }
     },
     "source": [
      "# Contents at a Glance\n",
      "\n",
      "-----"
     ]
    },
    {
     "cell_type": "markdown",
     "metadata": {
      "slideshow": {
       "slide_type": "skip"
      }
     },
     "source": [
      "# Part 1: Setup"
     ]
    },
    {
     "cell_type": "markdown",
     "metadata": {
      "slideshow": {
       "slide_type": "skip"
      }
     },
     "source": [
      "##<a name=\"environment\"></a>Programming Environment\n",
      "\n",
      "We use **Python 3.4** included in the [**Anaconda**](https://store.continuum.io/cshop/anaconda/) distribution by \n",
      "[**Continuum Analytics**](http://www.continuum.io/).\n",
      "\n",
      "Anaconda is a completely free enterprise-ready Python distribution for large-scale data processing, predictive analytics, and scientific computing. \n",
      "\n",
      "Apart from that, Anaconda ships with easy-to-use installers for almost every platform, that wuold drastically reduce the \n",
      "burden of setting up the environment (exp. on [Windows](http://continuum.io/downloads#34))\n",
      "\n",
      "[Programming Environment notebook](00_programming_environment.ipynb)"
     ]
    },
    {
     "cell_type": "markdown",
     "metadata": {
      "slideshow": {
       "slide_type": "skip"
      }
     },
     "source": [
      "[top](#)"
     ]
    },
    {
     "cell_type": "markdown",
     "metadata": {
      "slideshow": {
       "slide_type": "skip"
      }
     },
     "source": [
      "# Part 2: Python Essentials"
     ]
    },
    {
     "cell_type": "markdown",
     "metadata": {
      "slideshow": {
       "slide_type": "skip"
      }
     },
     "source": [
      "<a name=\"hello_world\"></a>Hello World\n",
      "---\n",
      "The classic \"Hello world\" program in Python. Use this to make sure your Python installation is *up&running*\n",
      "\n",
      "[Hello World notebook](01_hello_world.ipynb)"
     ]
    },
    {
     "cell_type": "markdown",
     "metadata": {
      "slideshow": {
       "slide_type": "skip"
      }
     },
     "source": [
      "<a name='var_string_num'></a>Variables, Strings, and Numbers\n",
      "---\n",
      "In this section, you will learn to store information in variables. \n",
      "Afterwards, you will start to deal with two types of data: strings, which are sets of characters, and numerical data types.\n",
      "\n",
      "[Variables Strings Numbers noteboook](02_var_string_num.ipynb)"
     ]
    },
    {
     "cell_type": "markdown",
     "metadata": {
      "slideshow": {
       "slide_type": "skip"
      }
     },
     "source": [
      "<a name='lists_tuples'></a>Lists and Tuples\n",
      "---\n",
      "In this notebook, you will learn to store more than one valuable in a single variable. This by itself is one of the most powerful ideas in programming, and it introduces a number of other central concepts such as loops. If this section ends up making sense to you, you will be able to start writing some interesting programs, and you can be more confident that you will be able to develop overall competence as a programmer.\n",
      "\n",
      "[Lists and Tuples notebook](03_lists_tuples.ipynb)"
     ]
    },
    {
     "cell_type": "markdown",
     "metadata": {
      "slideshow": {
       "slide_type": "skip"
      }
     },
     "source": [
      "<a name='functions'></a>Introducing Functions\n",
      "---\n",
      "One of the core principles of any programming language is, \"Don't Repeat Yourself\". If you have an action that should occur many times, you can define that action once and then call that code whenever you need to carry out that action.\n",
      "\n",
      "[Introducing Functions notebook](04_introducing_functions.ipynb)"
     ]
    },
    {
     "cell_type": "markdown",
     "metadata": {
      "slideshow": {
       "slide_type": "skip"
      }
     },
     "source": [
      "<a name='if_statements'></a>If Statements\n",
      "---\n",
      "By allowing you to respond selectively to different situations and conditions, if statements open up whole new possibilities for your programs. In this section, you will learn how to test for certain conditions, and then respond in appropriate ways to those conditions.\n",
      "\n",
      "[If Statements notebook](05_if_statements.ipynb)"
     ]
    },
    {
     "cell_type": "markdown",
     "metadata": {
      "slideshow": {
       "slide_type": "skip"
      }
     },
     "source": [
      "<a name='while_input'></a>Loops, Iterations, and Input\n",
      "---\n",
      "Loops are one of the most fundamental structure of programming. In the notebook (lecture) about lists and tuples, the `for` loop statement have been briefly presented. For loops will be the most important, and the most widely used iteration strategy in Python. Neverthelees, while loops are also available in the Python language. \n",
      "\n",
      "While loops really useful because they let your program run until a user decides to quit the program. They set up an infinite loop that runs until the user does something to end the loop. This section also introduces the first way to get input from your program's users.\n",
      "\n",
      "[Loops, Iteration Schemas and Input notebook](06_loops_input.ipynb)"
     ]
    },
    {
     "cell_type": "markdown",
     "metadata": {
      "slideshow": {
       "slide_type": "skip"
      }
     },
     "source": [
      "<a name='dictionaries'></a>Dictionaries\n",
      "---\n",
      "Dictionaries allow us to store connected bits of information. For example, you might store a person's name and age together.\n",
      "\n",
      "[Dictionaries notebook](07_dictionaries.ipynb)"
     ]
    },
    {
     "cell_type": "markdown",
     "metadata": {
      "slideshow": {
       "slide_type": "skip"
      }
     },
     "source": [
      "<a name='more_functions'></a>More Functions\n",
      "---\n",
      "Earlier we learned the most bare-boned versions of functions. In this section we will learn more general concepts about functions, such as how to use functions to return values, and how to pass different kinds of data structures between functions.\n",
      "\n",
      "[More Functions notebook](08_more_functions.ipynb)"
     ]
    },
    {
     "cell_type": "markdown",
     "metadata": {
      "slideshow": {
       "slide_type": "skip"
      }
     },
     "source": [
      "<a name='classes'></a>Classes\n",
      "---\n",
      "So far we have learned about Python's core data types: strings, numbers, lists, tuples, and dictionaries. In this section we learn about the last major data structure, classes. Classes are quite unlike the other data types, in that they are much more flexible. Classes allow you to define the information and behavior that characterize anything you want to model in your program. Classes are a rich topic, so we will learn just enough here to dive into the projects you'd like to get started on.\n",
      "\n",
      "[Classes notebook](09_classes.ipynb)"
     ]
    },
    {
     "cell_type": "markdown",
     "metadata": {
      "slideshow": {
       "slide_type": "skip"
      }
     },
     "source": [
      "<a name='exceptions'></a>Exceptions\n",
      "---\n",
      "Every program has errors while it runs, and has to deal with unexpected behavior and bad input. Exceptions provide a clean way to deal with these situations.\n",
      "\n",
      "[Exceptions notebook](10_exceptions.ipynb)"
     ]
    },
    {
     "cell_type": "markdown",
     "metadata": {
      "slideshow": {
       "slide_type": "skip"
      }
     },
     "source": [
      "<a name='testing'></a>Testing\n",
      "---\n",
      "The programs that we write can quickly become complicated, and with complexity comes bugs. Programmers have long accepted that every program will have its share of bugs. To deal with this, we have come up with many ways to defend against avoidable bugs. Learning to write tests is one of the best things you can do to guard against avoidable bugs creeping into your own programs. Basically, you write a set of tests that you then run against your program every time you or someone else changes the program. These tests, if written correctly, prove that changes to the code do not break anything that was working previously.\n",
      "\n",
      "[Testing notebook](11_testing.ipynb)"
     ]
    },
    {
     "cell_type": "markdown",
     "metadata": {
      "slideshow": {
       "slide_type": "skip"
      }
     },
     "source": [
      "<a name='modules'></a>Modules and Import\n",
      "---\n",
      "Most of the functionality in Python is provided by *modules*. The Python Standard Library is a large collection of modules that provides *cross-platform* implementations of common facilities such as access to the operating system, file I/O, string management, network communication, and much more.\n",
      "\n",
      "[Modules and Import notebook](12_modules.ipynb)"
     ]
    },
    {
     "cell_type": "markdown",
     "metadata": {
      "slideshow": {
       "slide_type": "skip"
      }
     },
     "source": [
      "# Part 3: External Resources"
     ]
    },
    {
     "cell_type": "markdown",
     "metadata": {
      "slideshow": {
       "slide_type": "skip"
      }
     },
     "source": [
      "<a name='resources'></a>Resources\n",
      "---\n",
      "\n",
      "In this notebook you may links and references to external resources related to *programming* (in general) and to *programming in Python* (in particular).\n",
      "\n",
      "[Resources notebook](resources.ipynb)"
     ]
    }
   ],
   "metadata": {}
  }
 ]
}