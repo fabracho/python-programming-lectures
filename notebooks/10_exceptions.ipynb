{
 "metadata": {
  "celltoolbar": "Slideshow",
  "name": "",
  "signature": "sha256:8f78df3016fe748dab7e8aead25449ccc4bdd92022655f80ee2a30c8e3bf5808"
 },
 "nbformat": 3,
 "nbformat_minor": 0,
 "worksheets": [
  {
   "cells": [
    {
     "cell_type": "markdown",
     "metadata": {
      "slideshow": {
       "slide_type": "slide"
      }
     },
     "source": [
      "Exceptions\n",
      "===\n",
      "Every program has errors while it runs, and has to deal with unexpected behavior and bad input. Exceptions provide a clean way to deal with these situations."
     ]
    },
    {
     "cell_type": "markdown",
     "metadata": {
      "slideshow": {
       "slide_type": "skip"
      }
     },
     "source": [
      "#### Reference: [Original Notebook](http://nbviewer.ipython.org/urls/raw.github.com/ehmatthes/intro_programming/master/notebooks/exceptions.ipynb) by [@ehmatthes](https://twitter.com/ehmatthes)"
     ]
    },
    {
     "cell_type": "markdown",
     "metadata": {
      "slideshow": {
       "slide_type": "skip"
      }
     },
     "source": [
      "<a name=\"top\"></a>Contents\n",
      "===\n",
      "\n",
      "\n",
      "**TO BE Completed...**"
     ]
    },
    {
     "cell_type": "markdown",
     "metadata": {
      "slideshow": {
       "slide_type": "skip"
      }
     },
     "source": [
      "[top](#top)"
     ]
    },
    {
     "cell_type": "markdown",
     "metadata": {
      "slideshow": {
       "slide_type": "skip"
      }
     },
     "source": [
      "- - -\n",
      "[Previous: Classes](10_classes.ipynb) | \n",
      "[Home](Index.ipynb) | \n",
      "[Next: Testing](11_testing.ipynb)"
     ]
    }
   ],
   "metadata": {}
  }
 ]
}